{
 "cells": [
  {
   "cell_type": "markdown",
   "id": "355290dd",
   "metadata": {},
   "source": [
    "# PySpark Tutorial 1"
   ]
  },
  {
   "cell_type": "markdown",
   "id": "30114010",
   "metadata": {},
   "source": [
    "- Starting Spark Session\n",
    "- Loading the Dataset\n",
    "- print_schema method\n",
    "- Displaying Columns\n",
    "- Selecting Columns\n",
    "- Displaying the statistics of dataset"
   ]
  },
  {
   "cell_type": "code",
   "execution_count": 5,
   "id": "9d4bb710",
   "metadata": {},
   "outputs": [],
   "source": [
    "from pyspark.sql import SparkSession\n",
    "\n",
    "import warnings\n",
    "warnings.filterwarnings('ignore')"
   ]
  },
  {
   "cell_type": "code",
   "execution_count": 6,
   "id": "77a6f652",
   "metadata": {},
   "outputs": [],
   "source": [
    "spark = SparkSession.builder.appName('tutorial_1').getOrCreate()"
   ]
  },
  {
   "cell_type": "code",
   "execution_count": 7,
   "id": "1924ef0f",
   "metadata": {},
   "outputs": [
    {
     "data": {
      "text/html": [
       "\n",
       "            <div>\n",
       "                <p><b>SparkSession - in-memory</b></p>\n",
       "                \n",
       "        <div>\n",
       "            <p><b>SparkContext</b></p>\n",
       "\n",
       "            <p><a href=\"http://192.168.52.141:4041\">Spark UI</a></p>\n",
       "\n",
       "            <dl>\n",
       "              <dt>Version</dt>\n",
       "                <dd><code>v3.5.1</code></dd>\n",
       "              <dt>Master</dt>\n",
       "                <dd><code>local[*]</code></dd>\n",
       "              <dt>AppName</dt>\n",
       "                <dd><code>tutorial 1</code></dd>\n",
       "            </dl>\n",
       "        </div>\n",
       "        \n",
       "            </div>\n",
       "        "
      ],
      "text/plain": [
       "<pyspark.sql.session.SparkSession at 0x7fe3a11eed70>"
      ]
     },
     "execution_count": 7,
     "metadata": {},
     "output_type": "execute_result"
    }
   ],
   "source": [
    "spark"
   ]
  },
  {
   "cell_type": "code",
   "execution_count": 8,
   "id": "a5a8f026",
   "metadata": {},
   "outputs": [],
   "source": [
    "# reading csv file using pyspark\n",
    "df = spark.read.csv('demo_data.csv',\n",
    "                   header = True,\n",
    "                   inferSchema = True)"
   ]
  },
  {
   "cell_type": "code",
   "execution_count": 9,
   "id": "2c54d966",
   "metadata": {},
   "outputs": [
    {
     "name": "stdout",
     "output_type": "stream",
     "text": [
      "+------+----+---------------------+------+\n",
      "|Degree| Age|Experience (in years)|Salary|\n",
      "+------+----+---------------------+------+\n",
      "|    BE|  25|                    0|     0|\n",
      "|    BE|  27|                    2| 15000|\n",
      "|    ME|  34|                    7| 50000|\n",
      "|   BBA|  26|                    1|  1000|\n",
      "|  NULL|  24|                    1| 15000|\n",
      "|   BSC|NULL|                    4| 20000|\n",
      "|   MSC|  31|                    6| 45000|\n",
      "| Mtech|NULL|                    3|  NULL|\n",
      "|    BE|  28|                 NULL| 13500|\n",
      "+------+----+---------------------+------+\n",
      "\n"
     ]
    }
   ],
   "source": [
    "# displaying columns\n",
    "df.show()"
   ]
  },
  {
   "cell_type": "code",
   "execution_count": 10,
   "id": "7b37eb15",
   "metadata": {},
   "outputs": [
    {
     "name": "stdout",
     "output_type": "stream",
     "text": [
      "root\n",
      " |-- Degree: string (nullable = true)\n",
      " |-- Age: integer (nullable = true)\n",
      " |-- Experience (in years): integer (nullable = true)\n",
      " |-- Salary: integer (nullable = true)\n",
      "\n"
     ]
    }
   ],
   "source": [
    "# displaying the information about df\n",
    "df.printSchema()"
   ]
  },
  {
   "cell_type": "code",
   "execution_count": 11,
   "id": "d65c9183",
   "metadata": {},
   "outputs": [
    {
     "name": "stdout",
     "output_type": "stream",
     "text": [
      "+----+------+\n",
      "| Age|Salary|\n",
      "+----+------+\n",
      "|  25|     0|\n",
      "|  27| 15000|\n",
      "|  34| 50000|\n",
      "|  26|  1000|\n",
      "|  24| 15000|\n",
      "|NULL| 20000|\n",
      "|  31| 45000|\n",
      "|NULL|  NULL|\n",
      "|  28| 13500|\n",
      "+----+------+\n",
      "\n"
     ]
    }
   ],
   "source": [
    "#selecting columns\n",
    "df.select(['Age', 'Salary']).show()"
   ]
  },
  {
   "cell_type": "code",
   "execution_count": 12,
   "id": "ecf3b6f5",
   "metadata": {},
   "outputs": [
    {
     "name": "stderr",
     "output_type": "stream",
     "text": [
      "24/10/01 22:31:55 WARN SparkStringUtils: Truncated the string representation of a plan since it was too large. This behavior can be adjusted by setting 'spark.sql.debug.maxToStringFields'.\n"
     ]
    },
    {
     "name": "stdout",
     "output_type": "stream",
     "text": [
      "+-------+------+------------------+---------------------+------------------+\n",
      "|summary|Degree|               Age|Experience (in years)|            Salary|\n",
      "+-------+------+------------------+---------------------+------------------+\n",
      "|  count|     8|                 7|                    8|                 8|\n",
      "|   mean|  NULL|27.857142857142858|                  3.0|           19937.5|\n",
      "| stddev|  NULL| 3.532165125838609|   2.5071326821120348|18432.187491295917|\n",
      "|    min|   BBA|                24|                    0|                 0|\n",
      "|    max| Mtech|                34|                    7|             50000|\n",
      "+-------+------+------------------+---------------------+------------------+\n",
      "\n"
     ]
    }
   ],
   "source": [
    "# checking the statistics of df\n",
    "df.describe().show()"
   ]
  }
 ],
 "metadata": {
  "kernelspec": {
   "display_name": "Python 3 (ipykernel)",
   "language": "python",
   "name": "python3"
  },
  "language_info": {
   "codemirror_mode": {
    "name": "ipython",
    "version": 3
   },
   "file_extension": ".py",
   "mimetype": "text/x-python",
   "name": "python",
   "nbconvert_exporter": "python",
   "pygments_lexer": "ipython3",
   "version": "3.10.9"
  }
 },
 "nbformat": 4,
 "nbformat_minor": 5
}
