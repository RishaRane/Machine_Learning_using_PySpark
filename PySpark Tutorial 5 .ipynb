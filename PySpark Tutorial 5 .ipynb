{
 "cells": [
  {
   "cell_type": "markdown",
   "id": "cb972f1a",
   "metadata": {},
   "source": [
    "# String Indexer"
   ]
  },
  {
   "cell_type": "markdown",
   "id": "ec4875b3",
   "metadata": {},
   "source": [
    "- `String Indexer` in PySpark is same as `OneHotEncoding`in Scikit Learn"
   ]
  },
  {
   "cell_type": "markdown",
   "id": "89ac9eaa",
   "metadata": {},
   "source": [
    "### <pre>1. Starting the PySpark Session"
   ]
  },
  {
   "cell_type": "code",
   "execution_count": 5,
   "id": "32a4dc13",
   "metadata": {},
   "outputs": [],
   "source": [
    "import warnings \n",
    "warnings.filterwarnings('ignore')"
   ]
  },
  {
   "cell_type": "code",
   "execution_count": 6,
   "id": "75abf439",
   "metadata": {},
   "outputs": [],
   "source": [
    "from pyspark.sql import SparkSession\n",
    "\n",
    "spark = SparkSession.builder.appName('tutorial_5').getOrCreate()"
   ]
  },
  {
   "cell_type": "code",
   "execution_count": 7,
   "id": "8ba36a76",
   "metadata": {},
   "outputs": [
    {
     "data": {
      "text/html": [
       "\n",
       "            <div>\n",
       "                <p><b>SparkSession - in-memory</b></p>\n",
       "                \n",
       "        <div>\n",
       "            <p><b>SparkContext</b></p>\n",
       "\n",
       "            <p><a href=\"http://192.168.52.141:4040\">Spark UI</a></p>\n",
       "\n",
       "            <dl>\n",
       "              <dt>Version</dt>\n",
       "                <dd><code>v3.5.1</code></dd>\n",
       "              <dt>Master</dt>\n",
       "                <dd><code>local[*]</code></dd>\n",
       "              <dt>AppName</dt>\n",
       "                <dd><code>tutorial_5</code></dd>\n",
       "            </dl>\n",
       "        </div>\n",
       "        \n",
       "            </div>\n",
       "        "
      ],
      "text/plain": [
       "<pyspark.sql.session.SparkSession at 0x7f860a77b3a0>"
      ]
     },
     "execution_count": 7,
     "metadata": {},
     "output_type": "execute_result"
    }
   ],
   "source": [
    "spark"
   ]
  },
  {
   "cell_type": "markdown",
   "id": "10007df6",
   "metadata": {},
   "source": [
    "### <pre>2. Loading the Data"
   ]
  },
  {
   "cell_type": "code",
   "execution_count": 10,
   "id": "99069854",
   "metadata": {},
   "outputs": [],
   "source": [
    "import seaborn as sns\n",
    "\n",
    "#pandas dataframe\n",
    "df = sns.load_dataset('tips')\n",
    "\n",
    "# spark dataframe\n",
    "tips = spark.createDataFrame(df)"
   ]
  },
  {
   "cell_type": "code",
   "execution_count": 12,
   "id": "008d8971",
   "metadata": {},
   "outputs": [
    {
     "name": "stdout",
     "output_type": "stream",
     "text": [
      "+----------+----+------+------+---+------+----+\n",
      "|total_bill| tip|   sex|smoker|day|  time|size|\n",
      "+----------+----+------+------+---+------+----+\n",
      "|     16.99|1.01|Female|    No|Sun|Dinner|   2|\n",
      "|     10.34|1.66|  Male|    No|Sun|Dinner|   3|\n",
      "|     21.01| 3.5|  Male|    No|Sun|Dinner|   3|\n",
      "|     23.68|3.31|  Male|    No|Sun|Dinner|   2|\n",
      "|     24.59|3.61|Female|    No|Sun|Dinner|   4|\n",
      "+----------+----+------+------+---+------+----+\n",
      "only showing top 5 rows\n",
      "\n"
     ]
    }
   ],
   "source": [
    "tips.show(5)"
   ]
  },
  {
   "cell_type": "markdown",
   "id": "f7e40fb3",
   "metadata": {},
   "source": [
    "### <pre>3.String Indexing - Converting the categorical data into numeric one"
   ]
  },
  {
   "cell_type": "code",
   "execution_count": 14,
   "id": "6af1b043",
   "metadata": {},
   "outputs": [
    {
     "name": "stdout",
     "output_type": "stream",
     "text": [
      "root\n",
      " |-- total_bill: double (nullable = true)\n",
      " |-- tip: double (nullable = true)\n",
      " |-- sex: string (nullable = true)\n",
      " |-- smoker: string (nullable = true)\n",
      " |-- day: string (nullable = true)\n",
      " |-- time: string (nullable = true)\n",
      " |-- size: long (nullable = true)\n",
      "\n"
     ]
    }
   ],
   "source": [
    "tips.printSchema()"
   ]
  },
  {
   "cell_type": "code",
   "execution_count": 15,
   "id": "8e4a7537",
   "metadata": {},
   "outputs": [],
   "source": [
    "#creating a list of columns that are categorical in nature\n",
    "catg_cols = [col_name for col_name, data_type in tips.dtypes if 'string' in data_type]"
   ]
  },
  {
   "cell_type": "code",
   "execution_count": 16,
   "id": "a1d67e6c",
   "metadata": {},
   "outputs": [
    {
     "data": {
      "text/plain": [
       "['sex', 'smoker', 'day', 'time']"
      ]
     },
     "execution_count": 16,
     "metadata": {},
     "output_type": "execute_result"
    }
   ],
   "source": [
    "catg_cols"
   ]
  },
  {
   "cell_type": "code",
   "execution_count": 19,
   "id": "2c7cc0df",
   "metadata": {},
   "outputs": [],
   "source": [
    "from pyspark.ml.feature import StringIndexer\n",
    "\n",
    "index = StringIndexer(inputCols = catg_cols,\n",
    "                     outputCols = [col_name + '_encoded' for col_name in catg_cols])\n",
    "\n",
    "new_tips = index.fit(tips).transform(tips)"
   ]
  },
  {
   "cell_type": "code",
   "execution_count": 20,
   "id": "a9aa3f8d",
   "metadata": {},
   "outputs": [
    {
     "name": "stdout",
     "output_type": "stream",
     "text": [
      "+----------+----+------+------+---+------+----+-----------+--------------+-----------+------------+\n",
      "|total_bill| tip|   sex|smoker|day|  time|size|sex_encoded|smoker_encoded|day_encoded|time_encoded|\n",
      "+----------+----+------+------+---+------+----+-----------+--------------+-----------+------------+\n",
      "|     16.99|1.01|Female|    No|Sun|Dinner|   2|        1.0|           0.0|        1.0|         0.0|\n",
      "|     10.34|1.66|  Male|    No|Sun|Dinner|   3|        0.0|           0.0|        1.0|         0.0|\n",
      "|     21.01| 3.5|  Male|    No|Sun|Dinner|   3|        0.0|           0.0|        1.0|         0.0|\n",
      "|     23.68|3.31|  Male|    No|Sun|Dinner|   2|        0.0|           0.0|        1.0|         0.0|\n",
      "|     24.59|3.61|Female|    No|Sun|Dinner|   4|        1.0|           0.0|        1.0|         0.0|\n",
      "+----------+----+------+------+---+------+----+-----------+--------------+-----------+------------+\n",
      "only showing top 5 rows\n",
      "\n"
     ]
    }
   ],
   "source": [
    "new_tips.show(5)"
   ]
  },
  {
   "cell_type": "code",
   "execution_count": 21,
   "id": "ea1891c0",
   "metadata": {},
   "outputs": [],
   "source": [
    "new_tips = new_tips.drop(*catg_cols)"
   ]
  },
  {
   "cell_type": "code",
   "execution_count": 22,
   "id": "2065b591",
   "metadata": {},
   "outputs": [
    {
     "name": "stdout",
     "output_type": "stream",
     "text": [
      "+----------+----+----+-----------+--------------+-----------+------------+\n",
      "|total_bill| tip|size|sex_encoded|smoker_encoded|day_encoded|time_encoded|\n",
      "+----------+----+----+-----------+--------------+-----------+------------+\n",
      "|     16.99|1.01|   2|        1.0|           0.0|        1.0|         0.0|\n",
      "|     10.34|1.66|   3|        0.0|           0.0|        1.0|         0.0|\n",
      "|     21.01| 3.5|   3|        0.0|           0.0|        1.0|         0.0|\n",
      "|     23.68|3.31|   2|        0.0|           0.0|        1.0|         0.0|\n",
      "|     24.59|3.61|   4|        1.0|           0.0|        1.0|         0.0|\n",
      "+----------+----+----+-----------+--------------+-----------+------------+\n",
      "only showing top 5 rows\n",
      "\n"
     ]
    }
   ],
   "source": [
    "new_tips.show(5)"
   ]
  },
  {
   "cell_type": "code",
   "execution_count": null,
   "id": "944eb419",
   "metadata": {},
   "outputs": [],
   "source": []
  }
 ],
 "metadata": {
  "kernelspec": {
   "display_name": "Python 3 (ipykernel)",
   "language": "python",
   "name": "python3"
  },
  "language_info": {
   "codemirror_mode": {
    "name": "ipython",
    "version": 3
   },
   "file_extension": ".py",
   "mimetype": "text/x-python",
   "name": "python",
   "nbconvert_exporter": "python",
   "pygments_lexer": "ipython3",
   "version": "3.10.9"
  }
 },
 "nbformat": 4,
 "nbformat_minor": 5
}
